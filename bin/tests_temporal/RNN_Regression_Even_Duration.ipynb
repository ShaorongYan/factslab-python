{
 "cells": [
  {
   "cell_type": "markdown",
   "metadata": {},
   "source": [
    "## Load Dependencies"
   ]
  },
  {
   "cell_type": "code",
   "execution_count": 6,
   "metadata": {},
   "outputs": [
    {
     "data": {
      "text/plain": [
       "<torch._C.Generator at 0x110dd4b50>"
      ]
     },
     "execution_count": 6,
     "metadata": {},
     "output_type": "execute_result"
    }
   ],
   "source": [
    "import sys\n",
    "import torch\n",
    "import torch.nn as nn\n",
    "import torch.nn.functional as F\n",
    "import torch.optim as optim\n",
    "\n",
    "from torch.nn import LSTM\n",
    "from torch.nn import Parameter\n",
    "from torch.nn import MSELoss, L1Loss, SmoothL1Loss, CrossEntropyLoss\n",
    "from scipy.special import huber\n",
    "#from torch.autograd import Variable\n",
    "\n",
    "\n",
    "import pandas as pd\n",
    "import numpy as np\n",
    "import math\n",
    "import json\n",
    "import re\n",
    "from nltk.tokenize import word_tokenize\n",
    "\n",
    "from collections import Iterable\n",
    "from tqdm import tqdm\n",
    "\n",
    "import matplotlib.pyplot as plt\n",
    "\n",
    "\n",
    "sys.path.insert(0, '/Users/sidvash/facts_lab/factslab-python/factslab/')\n",
    "from utility import load_glove_embedding\n",
    "from datastructures import ConstituencyTree\n",
    "from pytorch.childsumtreelstm import *\n",
    "#from pytorch.rnnregression import RNNRegressionTrainer\n",
    "from pytorch.rnnregression import RNNRegression\n",
    "\n",
    "\n",
    "torch.manual_seed(1)"
   ]
  },
  {
   "cell_type": "markdown",
   "metadata": {},
   "source": [
    "## Load the data from MTurK"
   ]
  },
  {
   "cell_type": "code",
   "execution_count": 2,
   "metadata": {},
   "outputs": [],
   "source": [
    "#Data locations:\n",
    "turk_output = \"/Users/sidvash/facts_lab/factslab-protocols-eventtype/\" \n",
    "turk_output += \"Temporal_relations/testing_HIT/Batch_3246275_batch_results.csv\"\n",
    "\n",
    "embed_path = '/Users/sidvash/kaggle/'"
   ]
  },
  {
   "cell_type": "code",
   "execution_count": 3,
   "metadata": {},
   "outputs": [],
   "source": [
    "def filter_sentence(s):\n",
    "    '''\n",
    "    Filter out html <span> tags from a sentence \n",
    "    '''\n",
    "    \n",
    "    s = re.sub(r'\\<span class\\=\\\\\"predicate\\\\\">', r'', s)\n",
    "    \n",
    "    s = re.sub(r'\\<\\/span\\>', r' ', s)\n",
    "    \n",
    "    s = re.sub(r'  ', r'', s) #remove extra spaces\n",
    "\n",
    "    return s\n",
    "\n",
    "def extract_dataframe(data):\n",
    "    '''\n",
    "    Input: Pandas csv dataframe obtained from MTurk\n",
    "    \n",
    "    Output: Pandas dataframe levelled by (User x Sentenced_ID)\n",
    "    '''\n",
    "    data[\"dicts\"] = data[\"Input_var_arrays\"].map(lambda x: json.loads(x))\n",
    "    global_list = []\n",
    "    \n",
    "    for row in data.itertuples():\n",
    "        for idx, local_dict in enumerate(row.dicts):\n",
    "            temp_dict = local_dict.copy()\n",
    "            var_instant = \"Answer_instantaneous\" + str(idx+1)\n",
    "            var_instant_c =  \"Answer_confidence_instantaneous\" + str(idx+1)\n",
    "            var_start = \"Answer_startpt\" + str(idx+1)\n",
    "            var_start_c = \"Answer_confidence_startpoint\" + str(idx+1)\n",
    "            var_end = \"Answer_endpt\" + str(idx+1)\n",
    "            var_end_c = \"Answer_confidence_endpoint\" + str(idx+1)\n",
    "            var_duration = \"Answer_duration\" + str(idx+1)\n",
    "            var_duration_c = \"Answer_confidence_duration\" + str(idx+1)\n",
    "\n",
    "            temp_dict[\"is_instant\"] = getattr(row, var_instant)\n",
    "            temp_dict[\"conf_instant\"] = getattr(row, var_instant_c)\n",
    "            temp_dict[\"has_start\"] = getattr(row, var_start)\n",
    "            temp_dict[\"conf_start\"] = getattr(row, var_start_c)\n",
    "            temp_dict[\"has_end\"] = getattr(row, var_end)\n",
    "            temp_dict[\"conf_end\"] = getattr(row, var_end_c)\n",
    "            temp_dict[\"duration\"] = getattr(row, var_duration)\n",
    "            temp_dict[\"conf_duration\"] = getattr(row, var_duration_c)\n",
    "            temp_dict[\"worker_id\"] = row.WorkerId\n",
    "            temp_dict[\"hit_id\"] = row.HITId\n",
    "\n",
    "            global_list.append(temp_dict)\n",
    "            \n",
    "    return pd.DataFrame(global_list)"
   ]
  },
  {
   "cell_type": "code",
   "execution_count": 4,
   "metadata": {},
   "outputs": [],
   "source": [
    "data = pd.read_csv(turk_output)\n",
    "data.columns = [c.replace('.', '_') for c in data.columns]\n",
    "#data.head()\n",
    "\n",
    "pilot_data = extract_dataframe(data)\n",
    "\n",
    "#Re-arrange the order \n",
    "cols = list(pilot_data.columns)\n",
    "pilot_data = pilot_data[pilot_data.columns[::-1]]\n",
    "#pilot_data = pilot_data[pilot_data.columns[::-1]].drop('sentence', axis=1)\n",
    "\n",
    "#pilot_data.replace('na',np.NaN, inplace=True)\n",
    "pilot_data.head\n",
    "pilot_data['sent_token'] = pilot_data['sentence_id'] + \"_\" +\\\n",
    "                            pilot_data['pred_token'].map(lambda x: str(x))\n",
    "#pilot_data.head()"
   ]
  },
  {
   "cell_type": "code",
   "execution_count": 5,
   "metadata": {},
   "outputs": [],
   "source": [
    "def duration_to_int(dur):\n",
    "    '''\n",
    "    Map string durations to an integer\n",
    "    '''\n",
    "    \n",
    "    try:\n",
    "        return int(dur)\n",
    "        \n",
    "    except:\n",
    "        return 10\n",
    "        "
   ]
  },
  {
   "cell_type": "code",
   "execution_count": 6,
   "metadata": {},
   "outputs": [],
   "source": [
    "## Data features\n",
    "pilot_data['filter_sent'] = pilot_data['sentence'].map(lambda x: [filter_sentence(x).split(\" \")])\n",
    "pilot_data['pred_token_int'] = pilot_data['sent_token'].map(lambda x: int(x.split(\"_\")[-1]) + 1)\n",
    "pilot_data['pred_tokens'] = pilot_data.apply(lambda row: [[row.pred_token_int]], axis=1)\n",
    "\n",
    "\n",
    "\n",
    "pilot_data['duration_int'] = pilot_data.apply(lambda row: duration_to_int(row.duration), axis=1)\n",
    "#Convert objects to numerics\n",
    "\n",
    "X_data = pilot_data[['filter_sent','pred_token_int', 'pred_tokens']]\n",
    "y_data = pilot_data[['duration_int']]\n"
   ]
  },
  {
   "cell_type": "markdown",
   "metadata": {},
   "source": [
    "## View Data"
   ]
  },
  {
   "cell_type": "code",
   "execution_count": 7,
   "metadata": {},
   "outputs": [
    {
     "data": {
      "text/html": [
       "<div>\n",
       "<style>\n",
       "    .dataframe thead tr:only-child th {\n",
       "        text-align: right;\n",
       "    }\n",
       "\n",
       "    .dataframe thead th {\n",
       "        text-align: left;\n",
       "    }\n",
       "\n",
       "    .dataframe tbody tr th {\n",
       "        vertical-align: top;\n",
       "    }\n",
       "</style>\n",
       "<table border=\"1\" class=\"dataframe\">\n",
       "  <thead>\n",
       "    <tr style=\"text-align: right;\">\n",
       "      <th></th>\n",
       "      <th>filter_sent</th>\n",
       "      <th>pred_token_int</th>\n",
       "      <th>pred_tokens</th>\n",
       "    </tr>\n",
       "  </thead>\n",
       "  <tbody>\n",
       "    <tr>\n",
       "      <th>0</th>\n",
       "      <td>[[&amp;lsqb;, an, error, occurred, while, processi...</td>\n",
       "      <td>4</td>\n",
       "      <td>[[4]]</td>\n",
       "    </tr>\n",
       "    <tr>\n",
       "      <th>1</th>\n",
       "      <td>[[&amp;lsqb;, an, error, occurred, while, processi...</td>\n",
       "      <td>6</td>\n",
       "      <td>[[6]]</td>\n",
       "    </tr>\n",
       "    <tr>\n",
       "      <th>2</th>\n",
       "      <td>[[Adolf, Hitler, even, held, an, exhibition, o...</td>\n",
       "      <td>4</td>\n",
       "      <td>[[4]]</td>\n",
       "    </tr>\n",
       "    <tr>\n",
       "      <th>3</th>\n",
       "      <td>[[Adolf, Hitler, even, held, an, exhibition, o...</td>\n",
       "      <td>16</td>\n",
       "      <td>[[16]]</td>\n",
       "    </tr>\n",
       "    <tr>\n",
       "      <th>4</th>\n",
       "      <td>[[The, central, question, behind, the, palace,...</td>\n",
       "      <td>21</td>\n",
       "      <td>[[21]]</td>\n",
       "    </tr>\n",
       "  </tbody>\n",
       "</table>\n",
       "</div>"
      ],
      "text/plain": [
       "                                         filter_sent  pred_token_int  \\\n",
       "0  [[&lsqb;, an, error, occurred, while, processi...               4   \n",
       "1  [[&lsqb;, an, error, occurred, while, processi...               6   \n",
       "2  [[Adolf, Hitler, even, held, an, exhibition, o...               4   \n",
       "3  [[Adolf, Hitler, even, held, an, exhibition, o...              16   \n",
       "4  [[The, central, question, behind, the, palace,...              21   \n",
       "\n",
       "  pred_tokens  \n",
       "0       [[4]]  \n",
       "1       [[6]]  \n",
       "2       [[4]]  \n",
       "3      [[16]]  \n",
       "4      [[21]]  "
      ]
     },
     "execution_count": 7,
     "metadata": {},
     "output_type": "execute_result"
    }
   ],
   "source": [
    "X_data.head()"
   ]
  },
  {
   "cell_type": "code",
   "execution_count": 8,
   "metadata": {},
   "outputs": [
    {
     "data": {
      "text/html": [
       "<div>\n",
       "<style>\n",
       "    .dataframe thead tr:only-child th {\n",
       "        text-align: right;\n",
       "    }\n",
       "\n",
       "    .dataframe thead th {\n",
       "        text-align: left;\n",
       "    }\n",
       "\n",
       "    .dataframe tbody tr th {\n",
       "        vertical-align: top;\n",
       "    }\n",
       "</style>\n",
       "<table border=\"1\" class=\"dataframe\">\n",
       "  <thead>\n",
       "    <tr style=\"text-align: right;\">\n",
       "      <th></th>\n",
       "      <th>duration_int</th>\n",
       "    </tr>\n",
       "  </thead>\n",
       "  <tbody>\n",
       "    <tr>\n",
       "      <th>0</th>\n",
       "      <td>10</td>\n",
       "    </tr>\n",
       "    <tr>\n",
       "      <th>1</th>\n",
       "      <td>8</td>\n",
       "    </tr>\n",
       "    <tr>\n",
       "      <th>2</th>\n",
       "      <td>5</td>\n",
       "    </tr>\n",
       "    <tr>\n",
       "      <th>3</th>\n",
       "      <td>4</td>\n",
       "    </tr>\n",
       "    <tr>\n",
       "      <th>4</th>\n",
       "      <td>5</td>\n",
       "    </tr>\n",
       "  </tbody>\n",
       "</table>\n",
       "</div>"
      ],
      "text/plain": [
       "   duration_int\n",
       "0            10\n",
       "1             8\n",
       "2             5\n",
       "3             4\n",
       "4             5"
      ]
     },
     "execution_count": 8,
     "metadata": {},
     "output_type": "execute_result"
    }
   ],
   "source": [
    "y_data.head()"
   ]
  },
  {
   "cell_type": "code",
   "execution_count": 9,
   "metadata": {},
   "outputs": [],
   "source": [
    "X = X_data.filter_sent.values\n",
    "idxs = X_data.pred_tokens.values\n",
    "y = list(list(y_data.values))\n",
    "\n",
    "data = list(zip(X, idxs, y))\n",
    "##Check sample values\n",
    "# print(X[0])\n",
    "# print(idxs[0])\n",
    "# print(y[0])"
   ]
  },
  {
   "cell_type": "code",
   "execution_count": 10,
   "metadata": {},
   "outputs": [
    {
     "name": "stdout",
     "output_type": "stream",
     "text": [
      "([['&lsqb;', 'an', 'error', 'occurred', 'while', 'processing', 'this', 'directive', '&rsqb;']], [[4]], array([10]))\n"
     ]
    }
   ],
   "source": [
    "print(data[0])"
   ]
  },
  {
   "cell_type": "markdown",
   "metadata": {},
   "source": [
    "### Model Class"
   ]
  },
  {
   "cell_type": "code",
   "execution_count": 11,
   "metadata": {},
   "outputs": [],
   "source": [
    "## import from factslab"
   ]
  },
  {
   "cell_type": "markdown",
   "metadata": {},
   "source": [
    "## Load embeddings"
   ]
  },
  {
   "cell_type": "markdown",
   "metadata": {},
   "source": [
    "#### Glove embeddings and Word_to_ix dict"
   ]
  },
  {
   "cell_type": "code",
   "execution_count": 12,
   "metadata": {},
   "outputs": [
    {
     "name": "stdout",
     "output_type": "stream",
     "text": [
      "Vocab size: 1275\n"
     ]
    }
   ],
   "source": [
    "vocab_set = set()\n",
    "for [sent] in X:\n",
    "    for word in sent:\n",
    "        if word not in vocab_set:\n",
    "            vocab_set.add(word) \n",
    "print(\"Vocab size: {}\".format(len(vocab_set)))\n",
    "\n",
    "vocab = list(vocab_set)"
   ]
  },
  {
   "cell_type": "code",
   "execution_count": 13,
   "metadata": {},
   "outputs": [],
   "source": [
    "glove_embeddings = load_glove_embedding(embed_path + 'glove.42B.300d', vocab)"
   ]
  },
  {
   "cell_type": "markdown",
   "metadata": {},
   "source": [
    "## Instantiate the RNN-Regression model"
   ]
  },
  {
   "cell_type": "code",
   "execution_count": 14,
   "metadata": {},
   "outputs": [],
   "source": [
    "out_size = len(np.unique(y))\n",
    "\n",
    "model = RNNRegression(embeddings = glove_embeddings, rnn_classes = LSTM, \n",
    "                      rnn_hidden_sizes = 300, num_rnn_layers=1, bidirectional=True, attention=False,\n",
    "                      regression_hidden_sizes = [32, 1], output_size = out_size )"
   ]
  },
  {
   "cell_type": "markdown",
   "metadata": {},
   "source": [
    "## Fit the model and backpropagate"
   ]
  },
  {
   "cell_type": "code",
   "execution_count": 15,
   "metadata": {},
   "outputs": [],
   "source": [
    "optimizer_class=torch.optim.Adam\n",
    "optimizer = optimizer_class(model.parameters())\n",
    "#optimizer"
   ]
  },
  {
   "cell_type": "code",
   "execution_count": 16,
   "metadata": {
    "scrolled": true
   },
   "outputs": [
    {
     "name": "stderr",
     "output_type": "stream",
     "text": [
      "1000it [01:01, 16.21it/s]\n",
      "3it [00:00, 27.69it/s]"
     ]
    },
    {
     "name": "stdout",
     "output_type": "stream",
     "text": [
      "Epoch 1 completed. Mean Cross Entropy Loss for the Epoch: 2.333160578250885\n"
     ]
    },
    {
     "name": "stderr",
     "output_type": "stream",
     "text": [
      "1000it [00:59, 16.72it/s]\n",
      "3it [00:00, 26.65it/s]"
     ]
    },
    {
     "name": "stdout",
     "output_type": "stream",
     "text": [
      "Epoch 2 completed. Mean Cross Entropy Loss for the Epoch: 2.3205303971767424\n"
     ]
    },
    {
     "name": "stderr",
     "output_type": "stream",
     "text": [
      "1000it [00:59, 16.70it/s]\n",
      "3it [00:00, 28.34it/s]"
     ]
    },
    {
     "name": "stdout",
     "output_type": "stream",
     "text": [
      "Epoch 3 completed. Mean Cross Entropy Loss for the Epoch: 2.309364683628082\n"
     ]
    },
    {
     "name": "stderr",
     "output_type": "stream",
     "text": [
      "1000it [01:00, 16.60it/s]\n",
      "3it [00:00, 27.24it/s]"
     ]
    },
    {
     "name": "stdout",
     "output_type": "stream",
     "text": [
      "Epoch 4 completed. Mean Cross Entropy Loss for the Epoch: 2.2994295830726625\n"
     ]
    },
    {
     "name": "stderr",
     "output_type": "stream",
     "text": [
      "1000it [01:00, 16.52it/s]\n",
      "3it [00:00, 25.74it/s]"
     ]
    },
    {
     "name": "stdout",
     "output_type": "stream",
     "text": [
      "Epoch 5 completed. Mean Cross Entropy Loss for the Epoch: 2.2904805772304533\n"
     ]
    },
    {
     "name": "stderr",
     "output_type": "stream",
     "text": [
      "1000it [01:00, 16.43it/s]\n",
      "3it [00:00, 28.94it/s]"
     ]
    },
    {
     "name": "stdout",
     "output_type": "stream",
     "text": [
      "Epoch 6 completed. Mean Cross Entropy Loss for the Epoch: 2.282180203318596\n"
     ]
    },
    {
     "name": "stderr",
     "output_type": "stream",
     "text": [
      "1000it [01:01, 16.15it/s]\n",
      "3it [00:00, 29.78it/s]"
     ]
    },
    {
     "name": "stdout",
     "output_type": "stream",
     "text": [
      "Epoch 7 completed. Mean Cross Entropy Loss for the Epoch: 2.2744658448696136\n"
     ]
    },
    {
     "name": "stderr",
     "output_type": "stream",
     "text": [
      "1000it [01:01, 16.28it/s]\n",
      "3it [00:00, 28.23it/s]"
     ]
    },
    {
     "name": "stdout",
     "output_type": "stream",
     "text": [
      "Epoch 8 completed. Mean Cross Entropy Loss for the Epoch: 2.2673090735673904\n"
     ]
    },
    {
     "name": "stderr",
     "output_type": "stream",
     "text": [
      "1000it [01:02, 16.01it/s]\n",
      "4it [00:00, 27.30it/s]"
     ]
    },
    {
     "name": "stdout",
     "output_type": "stream",
     "text": [
      "Epoch 9 completed. Mean Cross Entropy Loss for the Epoch: 2.2606502562761306\n"
     ]
    },
    {
     "name": "stderr",
     "output_type": "stream",
     "text": [
      "1000it [01:01, 16.31it/s]"
     ]
    },
    {
     "name": "stdout",
     "output_type": "stream",
     "text": [
      "Epoch 10 completed. Mean Cross Entropy Loss for the Epoch: 2.254392975687981\n"
     ]
    },
    {
     "name": "stderr",
     "output_type": "stream",
     "text": [
      "\n"
     ]
    }
   ],
   "source": [
    "total_obs = len(data)\n",
    "global_losses = []\n",
    "\n",
    "for epoch in range(10):\n",
    "    epoch_losses = []\n",
    "    \n",
    "    for i, (words, [idx], target) in tqdm(enumerate(data)):\n",
    "        optimizer.zero_grad()\n",
    "        \n",
    "        if not isinstance(target, list):\n",
    "            target = [target]\n",
    "        \n",
    "        predicts = model(words, idxs=idx)\n",
    "        actuals = [torch.from_numpy(arr).long().view(1) for arr in target]\n",
    "\n",
    "        loss_fn = CrossEntropyLoss()\n",
    "\n",
    "        word_loss = []\n",
    "        \n",
    "        for predicted, actual in list(zip(predicts, actuals)):\n",
    "            word_loss.append(loss_fn(predicted, actual))\n",
    "\n",
    "        sent_loss = sum(word_loss)\n",
    "        \n",
    "        epoch_losses.append(sent_loss.item())\n",
    "        global_losses.append(sent_loss.item())\n",
    "        \n",
    "        sent_loss.backward()\n",
    "        optimizer.step()\n",
    "        \n",
    "    print(\"Epoch {} completed. Mean Cross Entropy Loss for the Epoch: {}\".format((epoch+1), np.mean(epoch_losses)))"
   ]
  },
  {
   "cell_type": "markdown",
   "metadata": {},
   "source": [
    "## Plotting Loss"
   ]
  },
  {
   "cell_type": "code",
   "execution_count": 32,
   "metadata": {},
   "outputs": [
    {
     "data": {
      "image/png": "[encoded data removed]",
      "text/plain": [
       "<Figure size 432x288 with 1 Axes>"
      ]
     },
     "metadata": {},
     "output_type": "display_data"
    }
   ],
   "source": [
    "plt.plot(global_losses)\n",
    "plt.title(\"Loss vs iterations\")\n",
    "plt.show()\n",
    "\n",
    "# plt.plot(epoch_losses)\n",
    "# plt.title(\"Loss vs Epochs\")\n",
    "# plt.show()"
   ]
  },
  {
   "cell_type": "markdown",
   "metadata": {},
   "source": [
    "## Prediction"
   ]
  },
  {
   "cell_type": "code",
   "execution_count": 33,
   "metadata": {},
   "outputs": [
    {
     "name": "stdout",
     "output_type": "stream",
     "text": [
      "Predicted value\n"
     ]
    },
    {
     "data": {
      "text/plain": [
       "[tensor([[-2.7797, -3.2687, -2.0943, -1.7058, -3.1316, -3.5621, -3.2310,\n",
       "          -3.4613, -1.4799, -3.4098, -1.6530]])]"
      ]
     },
     "execution_count": 33,
     "metadata": {},
     "output_type": "execute_result"
    }
   ],
   "source": [
    "data_idx = 0\n",
    "\n",
    "words = data[data_idx][0]\n",
    "[idx] = data[data_idx][1]\n",
    "print(\"Predicted value\")\n",
    "out = model(words, idxs = idx)\n",
    "out"
   ]
  },
  {
   "cell_type": "code",
   "execution_count": 34,
   "metadata": {},
   "outputs": [
    {
     "name": "stdout",
     "output_type": "stream",
     "text": [
      "Predicted label: 8\n"
     ]
    }
   ],
   "source": [
    "label = np.argmax(out[0].detach().numpy())\n",
    "print(\"Predicted label: {}\".format(label))"
   ]
  },
  {
   "cell_type": "code",
   "execution_count": 35,
   "metadata": {},
   "outputs": [
    {
     "name": "stdout",
     "output_type": "stream",
     "text": [
      "Actual label: 10\n"
     ]
    }
   ],
   "source": [
    "print(\"Actual label: {}\".format(data[data_idx][2][0]))"
   ]
  },
  {
   "cell_type": "markdown",
   "metadata": {},
   "source": [
    "## Accuracy"
   ]
  },
  {
   "cell_type": "code",
   "execution_count": 28,
   "metadata": {},
   "outputs": [
    {
     "name": "stderr",
     "output_type": "stream",
     "text": [
      "1000it [00:09, 109.75it/s]"
     ]
    },
    {
     "name": "stdout",
     "output_type": "stream",
     "text": [
      "Accuracy: 12.5\n"
     ]
    },
    {
     "name": "stderr",
     "output_type": "stream",
     "text": [
      "\n"
     ]
    }
   ],
   "source": [
    "count = 0\n",
    "correct = 0\n",
    "for i, (words, [idx], target) in tqdm(enumerate(data)):\n",
    "    \n",
    "    \n",
    "    out = model(words, idxs=idx)\n",
    "    pred_label = np.argmax(out[0].detach().numpy())\n",
    "    actuals = target[0]\n",
    "    \n",
    "    if pred_label == actuals:\n",
    "        correct += 1\n",
    "        \n",
    "    count +=1\n",
    "    \n",
    "print(\"Accuracy: {}\".format((correct/count)*100))\n",
    "    \n",
    "    "
   ]
  },
  {
   "cell_type": "markdown",
   "metadata": {},
   "source": [
    "## Rough Work"
   ]
  },
  {
   "cell_type": "code",
   "execution_count": 20,
   "metadata": {},
   "outputs": [],
   "source": [
    "# embeddings = torch.nn.Embedding(1275, 300)\n",
    "\n",
    "# indices = [[1], [2], [5], [45]]\n",
    "# indices = torch.tensor(indices, dtype=torch.long)\n",
    "# print(indices.type())\n",
    "# indices.requires_grad"
   ]
  },
  {
   "cell_type": "code",
   "execution_count": null,
   "metadata": {},
   "outputs": [],
   "source": []
  }
 ],
 "metadata": {
  "kernelspec": {
   "display_name": "Python 3",
   "language": "python",
   "name": "python3"
  },
  "language_info": {
   "codemirror_mode": {
    "name": "ipython",
    "version": 3
   },
   "file_extension": ".py",
   "mimetype": "text/x-python",
   "name": "python",
   "nbconvert_exporter": "python",
   "pygments_lexer": "ipython3",
   "version": "3.6.5"
  }
 },
 "nbformat": 4,
 "nbformat_minor": 2
}
